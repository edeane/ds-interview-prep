{
 "cells": [
  {
   "cell_type": "markdown",
   "metadata": {},
   "source": [
    "# Data Science Career Guide Product Analysis and Business Metrics and Working with Data\n",
    "#### Notebook I am using to follow along with Jose's course and practice LaTex"
   ]
  },
  {
   "cell_type": "markdown",
   "metadata": {},
   "source": [
    "# Product Analysis and Business Metrics"
   ]
  },
  {
   "cell_type": "markdown",
   "metadata": {},
   "source": [
    "## 1. In 2011 Facebook launched Messenger as a stand alone app for mobile devices (it used to only be part of the Facebook App). How would you track the performance of this new application? What metrics would you use?\n",
    "\n",
    "* ### Daily Active Users and Monthly Active Users\n",
    "* ### Total Time Spent especially with Advertising\n",
    "* ### etc."
   ]
  },
  {
   "cell_type": "markdown",
   "metadata": {},
   "source": [
    "## 2. Google has released a new version of their search algorithm, for which they used A/B testing. During the testing process, engineers realized that the new algorithm was not implemented correctly and returned less relevent results. 2 things happened during testing: People in the treatment group performed more queries than the control group. Advertising revenue was higher in the treatment group as well.\n",
    "\n",
    "* ### What may be the cause of people in the treatment group performing more searches than the control group?\n",
    "    * ### Are these clarifying searches like (apple then search for apple computers)\n",
    "    * ### Look at it analytically\n",
    "* ### What do you think caused the new algoirthm to generate more advertising revenue, even though the results were less relevent?\n",
    "    * ### More searches = more clicks and views of ads\n",
    "    * ### Could be 2 different algorithms for search and display ads and the ads could be more relevent than the search results\n",
    "* ### Since the less relevent algorithm resulted in higher advertising revenue, should it be implemented anyways?\n",
    "    * ### Do not implement an algorithm that is worse\n",
    "    * ### Should not implement short term financial gain that ruins google's best competative advantage\n",
    "    * ### Customers first and providing the best product not all about $$$"
   ]
  },
  {
   "cell_type": "markdown",
   "metadata": {},
   "source": [
    "## 3. A car company produces all the cars for a country, we'll call them Car X and Car Y. 50% of the population drives Car X, the other 50% drives Car Y. Two potential technologies have just been discovered that help reduce gasoline usage!\n",
    "\n",
    "* ### Technology A increases the MPG of Car X from 50 MPG to 75 MPG\n",
    "* ### Technology B increases the MPG of Car Y from 10 MPG to 11 MPG\n",
    "\n",
    "## Which technology should be implemented to save the most gasoline for the country?\n",
    "\n",
    "$$ Gallons = \\frac {Miles} {Miles/Gallon} $$\n",
    "\n",
    "$$ Car\\:A = \\frac {Miles}{50}-\\frac{Miles}{75} = \\frac{Miles}{150} $$\n",
    "$$ Car\\:B = \\frac {Miles}{10}-\\frac{Miles}{11} = \\frac{Miles}{110} $$"
   ]
  },
  {
   "cell_type": "markdown",
   "metadata": {},
   "source": [
    "# Working with Data\n",
    "\n",
    "* SELECT DISTINCT, CASE WHEN\t\n",
    "* FROM\n",
    "* JOIN ON\t\n",
    "* WHERE\t\n",
    "* GROUP BY\t\n",
    "* HAVING\n",
    "* ORDER BY"
   ]
  },
  {
   "cell_type": "markdown",
   "metadata": {},
   "source": [
    "## 1. What is wrong with this query?\n",
    "\n",
    "```sql\n",
    "SELECT Id, YEAR(TrialDate) AS TrialYear\n",
    "FROM Payments\n",
    "WHERE TrialYear <= 2015;\n",
    "```\n",
    "* ### Alias cannot be used in WHERE\n",
    "\n",
    "```sql\n",
    "SELECT Id, YEAR(TrialDate) AS TrialYear\n",
    "FROM Payments\n",
    "WHERE YEAR(TrialDate) <= 2015;\n",
    "```"
   ]
  },
  {
   "cell_type": "markdown",
   "metadata": {},
   "source": [
    "## 2. What is wrong with this query?\n",
    "\n",
    "```sql\n",
    "SELECT Id, TrialDate\n",
    "FROM Payments\n",
    "GROUP BY Id;\n",
    "```\n",
    "* ### No agreggate function..."
   ]
  },
  {
   "cell_type": "markdown",
   "metadata": {},
   "source": [
    "## 3. What is wrong with this query?\n",
    "\n",
    "```sql\n",
    "SELECT UserId, AVG(Total) as AvgOrderTotal\n",
    "FROM Invoices\n",
    "HAVING COUNT(OrderId) >= 1\n",
    "```\n",
    "* ### No agreggate function...\n",
    "\n",
    "```sql\n",
    "SELECT UserId, AVG(Total) as AvgOrderTotal\n",
    "FROM Invoices\n",
    "GROUP BY UserId\n",
    "HAVING COUNT(OrderId) >= 1\n",
    "```"
   ]
  },
  {
   "cell_type": "markdown",
   "metadata": {},
   "source": [
    "## 4. Write a query that retrieves all employees managed by Sandy Kim.\n",
    "\n",
    "### Employees\n",
    "Id | Name | ManagedBy\n",
    "--- | --- | ---\n",
    "1 | Jane Doe | NULL\n",
    "2 | Mark Smith | 1\n",
    "3 | Sally Rogers | 3\n",
    "\n",
    "### Managers\n",
    "Id | Name\n",
    "--- | ---\n",
    "1 | Zach Allen\n",
    "2 | Bill Lee\n",
    "3 | Sandy Kim\n",
    "\n",
    "\n",
    "```sql\n",
    "SELECT e.Id, e.Name\n",
    "FROM Employees as e\n",
    "JOIN Managers as m\n",
    "ON e.ManagedBy = m.Id\n",
    "WHERE m.Name = 'Sandy Kim'\n",
    "```\n",
    "## 5. Write a query that retrieves all employees that have no manager.\n",
    "\n",
    "```sql\n",
    "SELECT Name\n",
    "FROM Employees\n",
    "WHERE ManagedBy = 'NULL'\n",
    "```"
   ]
  },
  {
   "cell_type": "code",
   "execution_count": null,
   "metadata": {},
   "outputs": [],
   "source": []
  },
  {
   "cell_type": "code",
   "execution_count": null,
   "metadata": {},
   "outputs": [],
   "source": []
  },
  {
   "cell_type": "code",
   "execution_count": null,
   "metadata": {},
   "outputs": [],
   "source": []
  },
  {
   "cell_type": "code",
   "execution_count": null,
   "metadata": {},
   "outputs": [],
   "source": []
  }
 ],
 "metadata": {
  "kernelspec": {
   "display_name": "Python 3",
   "language": "python",
   "name": "python3"
  },
  "language_info": {
   "codemirror_mode": {
    "name": "ipython",
    "version": 3
   },
   "file_extension": ".py",
   "mimetype": "text/x-python",
   "name": "python",
   "nbconvert_exporter": "python",
   "pygments_lexer": "ipython3",
   "version": "3.6.2"
  }
 },
 "nbformat": 4,
 "nbformat_minor": 2
}
