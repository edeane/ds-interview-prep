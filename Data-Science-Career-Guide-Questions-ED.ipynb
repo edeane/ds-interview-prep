{
 "cells": [
  {
   "cell_type": "markdown",
   "metadata": {},
   "source": [
    "# Data Science Career Guide - Interview Preparation\n",
    "#### Notebook I am using to follow along with Jose's course and practice LaTex"
   ]
  },
  {
   "cell_type": "code",
   "execution_count": 6,
   "metadata": {},
   "outputs": [],
   "source": [
    "import numpy as np\n",
    "import pandas as pd\n",
    "import matplotlib.pyplot as plt\n",
    "%matplotlib inline"
   ]
  },
  {
   "cell_type": "code",
   "execution_count": 7,
   "metadata": {},
   "outputs": [],
   "source": [
    "import scipy.stats as scs\n",
    "import seaborn as sns"
   ]
  },
  {
   "cell_type": "markdown",
   "metadata": {},
   "source": [
    "## 1. You are given a fair coin. On average, how many flips would you need to get two of the same flip in a row (either 2 heads in a row or 2 tails in a row)?\n",
    "\n",
    "### $$ P(X = n) = \\frac {2} {2^{n-1}} \\cdot \\frac{1}{2}$$\n",
    "\n",
    "###  $$ 1/2 \\times 1/2 \\times 1/2 \\ldots $$\n",
    "\n",
    "### $$ E[X] = x_1p_1 + x_2p_2 + \\cdots + x_kp_k $$\n",
    "\n",
    "### $$ \\sum_{n=2}^{\\infty}nP_n = \\sum_{n=2}^{\\infty} \\frac{n}{2^{n-1}} = 3 $$\n"
   ]
  },
  {
   "cell_type": "code",
   "execution_count": 11,
   "metadata": {},
   "outputs": [
    {
     "data": {
      "text/plain": [
       "<matplotlib.collections.LineCollection at 0x7f66595cb7b8>"
      ]
     },
     "execution_count": 11,
     "metadata": {},
     "output_type": "execute_result"
    },
    {
     "data": {
      "image/png": "[encoded data removed]",
      "text/plain": [
       "<matplotlib.figure.Figure at 0x7f66595d8f98>"
      ]
     },
     "metadata": {},
     "output_type": "display_data"
    }
   ],
   "source": [
    "fig, ax = plt.subplots(1, 1)\n",
    "p = 0.5\n",
    "mean, var, skew, kurt = scs.geom.stats(p, moments='mvsk')\n",
    "x = np.arange(scs.geom.ppf(0.01, p), scs.geom.ppf(0.99, p))\n",
    "ax.plot(x, scs.geom.pmf(x, p), 'bo', ms=8, label='geom pmf')\n",
    "ax.vlines(x, 0, scs.geom.pmf(x, p), colors='b', lw=5, alpha=0.5)"
   ]
  },
  {
   "cell_type": "code",
   "execution_count": 13,
   "metadata": {},
   "outputs": [
    {
     "data": {
      "text/plain": [
       "2.0"
      ]
     },
     "execution_count": 13,
     "metadata": {},
     "output_type": "execute_result"
    },
    {
     "data": {
      "image/png": "[encoded data removed]",
      "text/plain": [
       "<matplotlib.figure.Figure at 0x7f664829d828>"
      ]
     },
     "metadata": {},
     "output_type": "display_data"
    }
   ],
   "source": [
    "geo = scs.geom(.5)\n",
    "xs = np.arange(0,50)\n",
    "ys = geo.pmf(xs)\n",
    "plt.plot(xs, ys)\n",
    "geo.expect()"
   ]
  },
  {
   "cell_type": "markdown",
   "metadata": {},
   "source": [
    "## 2. What is the probability of rolling a total sum of 4 with 2 dice?\n",
    "\n",
    "### 36 total ways the dice can be thrown\n",
    "\n",
    "### [(1,3),(2,2),(3,1)] = 3/36"
   ]
  },
  {
   "cell_type": "markdown",
   "metadata": {},
   "source": [
    "## 3. What is the probability of rolling at least one 4 with 2 dice?\n",
    "\n",
    " * ### there are 11 / 36"
   ]
  },
  {
   "cell_type": "markdown",
   "metadata": {},
   "source": [
    "## 4. You have two jars, 50 red marbles, 50 blue marbles. You need to place all the marbles into the jars such that when you blindly pick one marble out of one jar, you maximize the chances that it will be red.\n",
    "\n",
    "* ### Place 1 red in 1st jar and the rest of the marbles in the 2nd jar.\n",
    "\n",
    "### $ (1 \\times \\frac{1}{2}) + (\\frac{49}{99} \\times \\frac{1}{2}) = .7475 $"
   ]
  },
  {
   "cell_type": "markdown",
   "metadata": {},
   "source": [
    "## 5. If the probability of seeing a car on the highway in 30 minutes is 0.95, what is the probability of seeing a car on the highway in 10 minutes? (Assume a constant default probability)\n",
    "\n",
    "* ### Let probability of seeing no car in 10 minutes be P\n",
    "* ### No car for 30 mins = $ P x P x P $\n",
    "* ### Seeing at least one car in 30  mins $ = 1 - P^3 = 0.95 $\n",
    "* ### $ 1-P = 0.63 $\n"
   ]
  },
  {
   "cell_type": "markdown",
   "metadata": {},
   "source": [
    "## 6. You are given a fair coin. On average, how many flips would you need to get two heads in a row?\n",
    "\n",
    "* ### ..."
   ]
  },
  {
   "cell_type": "code",
   "execution_count": null,
   "metadata": {},
   "outputs": [],
   "source": []
  },
  {
   "cell_type": "code",
   "execution_count": null,
   "metadata": {},
   "outputs": [],
   "source": []
  },
  {
   "cell_type": "code",
   "execution_count": null,
   "metadata": {},
   "outputs": [],
   "source": []
  },
  {
   "cell_type": "code",
   "execution_count": null,
   "metadata": {},
   "outputs": [],
   "source": []
  },
  {
   "cell_type": "code",
   "execution_count": null,
   "metadata": {},
   "outputs": [],
   "source": []
  },
  {
   "cell_type": "code",
   "execution_count": null,
   "metadata": {},
   "outputs": [],
   "source": []
  },
  {
   "cell_type": "markdown",
   "metadata": {},
   "source": [
    "\n",
    "$\\sum_{\\substack{0<i<m\\0<j<n}} P(i, j)$\n",
    "$\\alpha$\n",
    "\n",
    "$\\frac {p(H) \\: p(D \\mid H)} {p(D)}$\n",
    "\n",
    "$P(E)   = {n \\choose k} p^k (1-p)^{ n-k}$\n",
    "\n",
    "$$ p(H \\mid D) = \\frac {p(H) p(D \\mid H)} {p(D)}$$\n",
    "\n",
    "$ 5\\dot 3 $\n",
    "\n",
    "$\\cdot$\n",
    "$\\cdotp$\n",
    "$\\bullet$"
   ]
  },
  {
   "cell_type": "code",
   "execution_count": null,
   "metadata": {},
   "outputs": [],
   "source": []
  }
 ],
 "metadata": {
  "kernelspec": {
   "display_name": "Python 3",
   "language": "python",
   "name": "python3"
  },
  "language_info": {
   "codemirror_mode": {
    "name": "ipython",
    "version": 3
   },
   "file_extension": ".py",
   "mimetype": "text/x-python",
   "name": "python",
   "nbconvert_exporter": "python",
   "pygments_lexer": "ipython3",
   "version": "3.6.2"
  }
 },
 "nbformat": 4,
 "nbformat_minor": 2
}
