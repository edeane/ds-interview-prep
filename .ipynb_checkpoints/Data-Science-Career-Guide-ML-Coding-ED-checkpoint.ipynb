{
 "cells": [
  {
   "cell_type": "markdown",
   "metadata": {},
   "source": [
    "# Data Science Career Guide Machine Learning and Coding\n",
    "#### Notebook I am using to follow along with Jose's course and practice LaTex"
   ]
  },
  {
   "cell_type": "markdown",
   "metadata": {},
   "source": [
    "# Machine Learning"
   ]
  },
  {
   "cell_type": "markdown",
   "metadata": {},
   "source": [
    "## 1. Linear Regression\n",
    "\n",
    "* ### Linear relationship between x and y\n",
    "* ### Residual error should be normally distributed\n",
    "* ### L1 and L2 Regularization"
   ]
  },
  {
   "cell_type": "markdown",
   "metadata": {},
   "source": [
    "## 2. Logistic Regression\n",
    "\n",
    "* ### $$ \\delta = \\frac {1} {1 + e^{-t}} $$\n",
    "* ### $$ t = \\beta_0 + \\beta_1x_1 + \\beta_2x_2 + \\ldots \\beta_nx_n $$\n",
    "* ### $$ f(x) = \\delta(t) = \\frac {1} {1 + e^{\\beta_0+\\beta_1x}} $$"
   ]
  },
  {
   "cell_type": "markdown",
   "metadata": {},
   "source": [
    "## 3. Decision Tree\n",
    "\n",
    "* ### Uses information gain with entropy to choose the best feature to split on\n",
    "* ### Find the feature that best splits the target class into the purest possible children nodes\n",
    "* ### Entropy is the measure of impurity\n",
    "* ### Compare entropy before and after the split\n",
    "* ### $$ Information\\:Gain = Entropy_{Before} - Entropy_{After} $$\n",
    "* ### Gini as well...\n",
    "* ### 4. Decision trees are good for non linear problems\n",
    "* ### Easy to interpret and understand\n",
    "* ### Works with continuous and categorical\n",
    "* ### No normalization or scaling\n",
    "* ### Pretty fast"
   ]
  },
  {
   "cell_type": "markdown",
   "metadata": {},
   "source": [
    "## 5. What is the difference between a random forest versus boosting tree algorithms?\n",
    "\n",
    "* ### Boosted trees reassign weights to samples based on the results of previous iterations of classifications\n",
    "* ### Harder to classify points get weighted more\n",
    "* ### Future trees need previous trees to be created\n",
    "* ### Random Forest uses bootstrap sampling and can only split on a random subset of features"
   ]
  },
  {
   "cell_type": "markdown",
   "metadata": {},
   "source": [
    "## 6. Given a data set of features X and labels y, what assumptions are made when using Naive Bayes methods?\n",
    "\n",
    "* ### Bayes\n",
    "* ### $$ P(A \\mid B) = \\frac {P(A) \\times P(B \\mid A)} {P(B)} $$\n",
    "* ### $$ P(A \\mid B) = \\frac {P(A) \\times P(B \\mid A)} {P(B \\mid A) \\times P(A) + P(B \\mid \\bar A) \\times P(\\bar A)} $$\n",
    "\n",
    "* ### Each feature is independent of each other\n",
    "* ### Naive assumption that all features are independent of each other"
   ]
  },
  {
   "cell_type": "markdown",
   "metadata": {},
   "source": [
    "## 7. Support Vector Machines\n",
    "\n",
    "* ### SVMs attempt to find a hyperplane that separates classes by maximizing the margin\n",
    "* ### They can take multiple kernals to map linear no separable features into a higher dimension"
   ]
  },
  {
   "cell_type": "markdown",
   "metadata": {},
   "source": [
    "## 8. What is overfitting and what causes it? How can we avoid it?\n",
    "\n",
    "* ### It overfits to the training data and is often too complex\n",
    "* ### Use a different model that does not overfit, change parameters, etc.\n",
    "* ### Increase training data size\n",
    "* ### Regularization (L1 or L2)\n",
    "* ### K-Fold Cross Validation"
   ]
  },
  {
   "cell_type": "markdown",
   "metadata": {},
   "source": [
    "## 9. Describe the differences between accuracy, precision, and recall.\n",
    "\n",
    " | Predict 0 | Predict 1\n",
    "--- | ---\n",
    "**Actual 0** | TN | FP (Type I)\n",
    "**Actual 1** | FN (Type II) | TP\n",
    "\n",
    "* ### Accuracy = (TP + TN) / Total\n",
    "* ### Misclassification Rate = (FP + FN) / Total\n",
    "* ### Recall aka True Positive Rate aka Sensitivity = TP / Actual Yes\n",
    "* ### Precision = TP / Predicted Yes\n",
    "* ### False Positive Rate = FP / Actual No\n",
    "* ### Specificity = TN / Actual No\n",
    "* ### Prevalence = Actual Yes / Total"
   ]
  },
  {
   "cell_type": "markdown",
   "metadata": {},
   "source": [
    "## 10. Metrics for Regression Task.\n",
    "\n",
    "* ### MSE $$ \\frac{1}{n} \\sum_{i=1}^{n} (Y_i - \\hat Y_i)^2 $$\n",
    "* ### RMSE $$ \\sqrt {MSE} $$\n",
    "* ### MAE $$ \\frac{1}{n} \\sum_{i=1}^{n} |Y_i - \\hat Y_i| $$"
   ]
  },
  {
   "cell_type": "markdown",
   "metadata": {},
   "source": [
    "# Coding"
   ]
  },
  {
   "cell_type": "markdown",
   "metadata": {},
   "source": [
    "## 1. Given an array of integers (positive and negative) write a program that can find the largest continuous sum. Return the total sum amount.\n",
    "\n",
    "* ### [7, 8, 9] = 24\n",
    "* ### [-1, 7, 8, 9, -10] = 24\n",
    "* ### [2, 3, -10, 9, 2] = 11\n",
    "* ### [2, 11, -10, 9, 2] = 14\n",
    "* ### [12, -10, 7, -8, 4, 6] = 12"
   ]
  },
  {
   "cell_type": "code",
   "execution_count": 58,
   "metadata": {},
   "outputs": [],
   "source": [
    "ex_1 = [7, 8, 9]\n",
    "ex_2 = [-1, 7, 8, 9, -10]\n",
    "ex_3 = [2, 3, -10, 9, 2]\n",
    "ex_4 = [2, 11, -10, 9, 2]\n",
    "ex_5 = [12, -10, 7, -8, 4, 6]\n",
    "ex_6 = [10, 11, -2]\n",
    "ex_7 = [-10,-20,-5,-30]\n",
    "ex_s = [ex_1, ex_2, ex_3, ex_4, ex_5, ex_6, ex_7]"
   ]
  },
  {
   "cell_type": "code",
   "execution_count": 59,
   "metadata": {},
   "outputs": [],
   "source": [
    "from itertools import combinations"
   ]
  },
  {
   "cell_type": "code",
   "execution_count": 64,
   "metadata": {},
   "outputs": [],
   "source": [
    "def largest_cont_sum_1(in_list):\n",
    "    '''\n",
    "    Returns the largest continuous sum for an array\n",
    "    \n",
    "    Input\n",
    "    -----\n",
    "    in_list: list of positive and negative integers\n",
    "    \n",
    "    Output\n",
    "    -----\n",
    "    result: the largest continuous sum\n",
    "    combo_result: the combination that resulted in the largest continuous sum    \n",
    "    \n",
    "    ex.\n",
    "    * [7, 8, 9] = 24 with [7, 8, 9]\n",
    "    * [-1, 7, 8, 9, -10] = 24 with [7, 8, 9]\n",
    "    * [2, 3, -10, 9, 2] = 11 with [9, 2]\n",
    "    * [2, 11, -10, 9, 2] = 14 with [2, 11, -10, 9, 2]\n",
    "    * [12, -10, 7, -8, 4, 6] = 12 with [12]\n",
    "    * [10, 11, -2] = 21 with [10, 11]\n",
    "    '''\n",
    "    result = min(in_list)\n",
    "    combo_result = []\n",
    "    all_combos = [in_list[i:j] for i, j in combinations(range(len(in_list) + 1), 2)]\n",
    "    for combo in all_combos:\n",
    "        combo_sum = sum(combo)\n",
    "        if combo_sum > result:\n",
    "            result = combo_sum\n",
    "            combo_result = combo\n",
    "    return result, combo_result"
   ]
  },
  {
   "cell_type": "code",
   "execution_count": 65,
   "metadata": {},
   "outputs": [
    {
     "name": "stdout",
     "output_type": "stream",
     "text": [
      "* [7, 8, 9] = 24 with [7, 8, 9]\n",
      "* [-1, 7, 8, 9, -10] = 24 with [7, 8, 9]\n",
      "* [2, 3, -10, 9, 2] = 11 with [9, 2]\n",
      "* [2, 11, -10, 9, 2] = 14 with [2, 11, -10, 9, 2]\n",
      "* [12, -10, 7, -8, 4, 6] = 12 with [12]\n",
      "* [10, 11, -2] = 21 with [10, 11]\n",
      "* [-10, -20, -5, -30] = -5 with [-5]\n"
     ]
    }
   ],
   "source": [
    "for ex in ex_s:\n",
    "    a, b = largest_cont_sum_1(ex)\n",
    "    print('* {} = {} with {}'.format(ex, a, b))"
   ]
  },
  {
   "cell_type": "code",
   "execution_count": 66,
   "metadata": {},
   "outputs": [],
   "source": [
    "def largest_cont_sum_2(arr):\n",
    "    '''\n",
    "    Jose's solution for returning the largest continuous sum for an array\n",
    "    Input\n",
    "    -----\n",
    "    arr: array of positive and negative integers\n",
    "    \n",
    "    Output\n",
    "    -----\n",
    "    result: the largest continuous sum\n",
    "    '''\n",
    "    if len(arr) == 0:\n",
    "        return 0\n",
    "    max_sum = arr[0]\n",
    "    current_sum = arr[0]\n",
    "    for num in arr[1:]:\n",
    "        current_sum = max(current_sum+num, num)\n",
    "        max_sum = max(current_sum, max_sum)\n",
    "    return max_sum"
   ]
  },
  {
   "cell_type": "code",
   "execution_count": 68,
   "metadata": {},
   "outputs": [
    {
     "name": "stdout",
     "output_type": "stream",
     "text": [
      "* [7, 8, 9] = 24\n",
      "* [-1, 7, 8, 9, -10] = 24\n",
      "* [2, 3, -10, 9, 2] = 11\n",
      "* [2, 11, -10, 9, 2] = 14\n",
      "* [12, -10, 7, -8, 4, 6] = 12\n",
      "* [10, 11, -2] = 21\n",
      "* [-10, -20, -5, -30] = -5\n"
     ]
    }
   ],
   "source": [
    "for ex in ex_s:\n",
    "    a = largest_cont_sum_2(ex)\n",
    "    print('* {} = {}'.format(ex, a))"
   ]
  },
  {
   "cell_type": "markdown",
   "metadata": {},
   "source": [
    "## 2. Given a string in the form 'AAAABBBBBCCCCDDEEE' compress it to become 'A4B5C4D2E3'\n",
    "\n",
    "* ### 'AAABBBBCCCCCDDE' = 'A3B4C5D2E1\n",
    "* ### 'AAAaaa' = 'A3a3'"
   ]
  },
  {
   "cell_type": "code",
   "execution_count": 109,
   "metadata": {},
   "outputs": [],
   "source": [
    "st_ex_1 = 'AAABBBBCCCCCDDE'\n",
    "st_ex_2 = 'AAAABBCCCDDDDDDDEE'\n",
    "st_ex_3 = 'AAAaaa'\n",
    "st_ex_4 = 'CODINGGGGG'\n",
    "st_exs = [st_ex_1, st_ex_2, st_ex_3, st_ex_4]"
   ]
  },
  {
   "cell_type": "code",
   "execution_count": 110,
   "metadata": {},
   "outputs": [],
   "source": [
    "def str_compress_1(in_str):\n",
    "    \n",
    "    result = ''\n",
    "    start_ind = 0\n",
    "    count_letter = in_str[0]\n",
    "    for ind, letter in enumerate(in_str):\n",
    "        if letter != count_letter:\n",
    "            result += count_letter\n",
    "            result += str(ind-start_ind)\n",
    "            count_letter = letter\n",
    "            start_ind = ind\n",
    "        if ind == len(in_str)-1:\n",
    "            result += count_letter\n",
    "            result += str(ind-start_ind+1)\n",
    "    return result"
   ]
  },
  {
   "cell_type": "code",
   "execution_count": 111,
   "metadata": {},
   "outputs": [
    {
     "name": "stdout",
     "output_type": "stream",
     "text": [
      "AAABBBBCCCCCDDE = A3B4C5D2E1\n",
      "AAAABBCCCDDDDDDDEE = A4B2C3D7E2\n",
      "AAAaaa = A3a3\n",
      "CODINGGGGG = C1O1D1I1N1G5\n"
     ]
    }
   ],
   "source": [
    "for st_ex in st_exs:\n",
    "    print('{} = {}'.format(st_ex, str_compress_1(st_ex)))"
   ]
  },
  {
   "cell_type": "code",
   "execution_count": 112,
   "metadata": {},
   "outputs": [],
   "source": [
    "def str_compress_2(in_str):\n",
    "    run = ''\n",
    "    length = len(in_str)\n",
    "    \n",
    "    cnt = 1\n",
    "    i = 1\n",
    "    while i < length:\n",
    "        if in_str[i] == in_str[i-1]:\n",
    "            cnt+=1\n",
    "        else:\n",
    "            run = run + in_str[i-1] + str(cnt)\n",
    "            cnt = 1\n",
    "        i+=1\n",
    "        \n",
    "    run = run + in_str[i-1] + str(cnt)\n",
    "    return run"
   ]
  },
  {
   "cell_type": "code",
   "execution_count": 113,
   "metadata": {},
   "outputs": [
    {
     "name": "stdout",
     "output_type": "stream",
     "text": [
      "AAABBBBCCCCCDDE = A3B4C5D2E1\n",
      "AAAABBCCCDDDDDDDEE = A4B2C3D7E2\n",
      "AAAaaa = A3a3\n",
      "CODINGGGGG = C1O1D1I1N1G5\n"
     ]
    }
   ],
   "source": [
    "for st_ex in st_exs:\n",
    "    print('{} = {}'.format(st_ex, str_compress_2(st_ex)))"
   ]
  },
  {
   "cell_type": "markdown",
   "metadata": {},
   "source": [
    "## 3. You are given an array of historical stock prices per day. Write an algorithm that figures out what days (index of array) you could buy and sell the stock for maximum profit. You are only allowed to buy the stock once and sell it once. Also no shorting the stock, you have to buy before selling.\n",
    "\n",
    "* ### [6, 13, 2, 10, 3, 5] = Buy on day 3 and selling on day 4 for $8 gain.\n",
    "* ### [6, 13, 3, 5, 10, 15, 2, 40, 1, 22]"
   ]
  },
  {
   "cell_type": "code",
   "execution_count": 114,
   "metadata": {},
   "outputs": [],
   "source": [
    "def stock_trade(arr):\n",
    "    \n",
    "    min_stock_price = arr[0]\n",
    "    max_profit = 0\n",
    "    \n",
    "    for price in arr:\n",
    "        min_stock_price = min(min_stock_price, price)\n",
    "        comparison_profit = price - min_stock_price\n",
    "        max_profit = max(max_profit, comparison_profit)\n",
    "    return max_profit"
   ]
  },
  {
   "cell_type": "code",
   "execution_count": 169,
   "metadata": {},
   "outputs": [],
   "source": [
    "stock_ex_1 = [2, 10, 12, 1, 3]\n",
    "stock_ex_2 = [2, 1, 3, 4, 20]\n",
    "stock_ex_3 = [5, 30]\n",
    "stock_ex_4 = [6, 13, 4, 5, 10, 15, 2, 40, 1, 22, 60]\n",
    "stock_ex_5 = [20,2,3,4,5,2,4,10]\n",
    "stock_exs = [stock_ex_1, stock_ex_2, stock_ex_3, stock_ex_4, stock_ex_5]"
   ]
  },
  {
   "cell_type": "code",
   "execution_count": 170,
   "metadata": {},
   "outputs": [
    {
     "name": "stdout",
     "output_type": "stream",
     "text": [
      "10\n",
      "19\n",
      "25\n",
      "59\n",
      "8\n"
     ]
    }
   ],
   "source": [
    "for stock_ex in stock_exs:\n",
    "    print(stock_trade(stock_ex))"
   ]
  },
  {
   "cell_type": "code",
   "execution_count": 171,
   "metadata": {},
   "outputs": [],
   "source": [
    "a = [6, 13, 3, 5, 10, 15, 2, 40, 1, 22]\n",
    "def stock_trade_2(stock_prices):\n",
    "    min_stock_ind = 0\n",
    "    min_stock_price = stock_prices[0]\n",
    "    max_stock_ind = 0\n",
    "    max_stock_price = stock_prices[0]\n",
    "    running_min_ind = 0\n",
    "    running_min_price = stock_prices[0]\n",
    "    max_profit = 0\n",
    "    \n",
    "    for ind, price in enumerate(stock_prices):\n",
    "        \n",
    "        current_profit = price - min_stock_price\n",
    "        \n",
    "        if current_profit > max_profit:\n",
    "            max_profit = current_profit\n",
    "            max_stock_ind = ind\n",
    "            \n",
    "        if price < running_min_price:\n",
    "            running_min_price = price\n",
    "            running_min_ind = ind\n",
    "            \n",
    "        running_profit = price - running_min_price\n",
    "        \n",
    "        if running_profit > max_profit:\n",
    "            max_profit = running_profit\n",
    "            min_stock_ind = running_min_ind\n",
    "            min_stock_price = running_min_price\n",
    "            max_stock_price = price\n",
    "            max_stock_ind = ind\n",
    "            \n",
    "        \n",
    "    return min_stock_ind, max_stock_ind"
   ]
  },
  {
   "cell_type": "code",
   "execution_count": 172,
   "metadata": {},
   "outputs": [
    {
     "name": "stdout",
     "output_type": "stream",
     "text": [
      "[2, 10, 12, 1, 3] (0, 2)\n",
      "[2, 1, 3, 4, 20] (1, 4)\n",
      "[5, 30] (0, 1)\n",
      "[6, 13, 4, 5, 10, 15, 2, 40, 1, 22, 60] (8, 10)\n",
      "[20, 2, 3, 4, 5, 2, 4, 10] (1, 7)\n"
     ]
    }
   ],
   "source": [
    "for stock_ex in stock_exs:\n",
    "    print(stock_ex, stock_trade_2(stock_ex))"
   ]
  },
  {
   "cell_type": "markdown",
   "metadata": {},
   "source": [
    "## 4. Array of non-negative integers. A second array is formed by shuffling the elements of the first array and deleting a random element. Given these two arrays, find which element is missing in the second array.\n",
    "\n",
    "* ### [1, 2, 3, 4, 5] and [1, 3, 4, 5] missing value is 2\n"
   ]
  },
  {
   "cell_type": "code",
   "execution_count": 184,
   "metadata": {},
   "outputs": [],
   "source": [
    "def find_missing_value(arr1, arr2):\n",
    "    for value in arr1:\n",
    "        if value not in arr2:\n",
    "            return value\n",
    "    return 0\n",
    "def find_missing_value_2(arr1, arr2):\n",
    "    return sum(arr1) - sum(arr2)"
   ]
  },
  {
   "cell_type": "code",
   "execution_count": 185,
   "metadata": {},
   "outputs": [],
   "source": [
    "mis_ex_1 = ([1,2,3,4,5], [1,3,4,5])\n",
    "mis_ex_2 = ([1,2,3,4,5], [1,3,4,2])\n",
    "mis_exs = [mis_ex_1, mis_ex_2]"
   ]
  },
  {
   "cell_type": "code",
   "execution_count": 186,
   "metadata": {},
   "outputs": [
    {
     "name": "stdout",
     "output_type": "stream",
     "text": [
      "2\n",
      "5\n",
      "2\n",
      "5\n"
     ]
    }
   ],
   "source": [
    "for mis_ex in mis_exs:\n",
    "    print(find_missing_value(mis_ex[0], mis_ex[1]))\n",
    "for mis_ex in mis_exs:\n",
    "    print(find_missing_value_2(mis_ex[0], mis_ex[1]))"
   ]
  },
  {
   "cell_type": "code",
   "execution_count": null,
   "metadata": {},
   "outputs": [],
   "source": []
  }
 ],
 "metadata": {
  "kernelspec": {
   "display_name": "Python 3",
   "language": "python",
   "name": "python3"
  },
  "language_info": {
   "codemirror_mode": {
    "name": "ipython",
    "version": 3
   },
   "file_extension": ".py",
   "mimetype": "text/x-python",
   "name": "python",
   "nbconvert_exporter": "python",
   "pygments_lexer": "ipython3",
   "version": "3.6.2"
  }
 },
 "nbformat": 4,
 "nbformat_minor": 2
}
