{
 "cells": [
  {
   "cell_type": "markdown",
   "metadata": {},
   "source": [
    "# Data Science Career Guide Probability and Statistics\n",
    "#### Notebook I am using to follow along with Jose's course and practice LaTex"
   ]
  },
  {
   "cell_type": "code",
   "execution_count": 57,
   "metadata": {},
   "outputs": [],
   "source": [
    "import numpy as np\n",
    "import pandas as pd\n",
    "import matplotlib.pyplot as plt\n",
    "%matplotlib inline"
   ]
  },
  {
   "cell_type": "code",
   "execution_count": 58,
   "metadata": {},
   "outputs": [],
   "source": [
    "import scipy.stats as scs\n",
    "import seaborn as sns"
   ]
  },
  {
   "cell_type": "markdown",
   "metadata": {},
   "source": [
    "# Probability Section"
   ]
  },
  {
   "cell_type": "markdown",
   "metadata": {},
   "source": [
    "## 1. You are given a fair coin. On average, how many flips would you need to get two of the same flip in a row (either 2 heads in a row or 2 tails in a row)?\n",
    "\n",
    "### $$ P(X = n) = \\frac {2} {2^{n-1}} \\cdot \\frac{1}{2}$$\n",
    "\n",
    "###  $$ 1/2 \\times 1/2 \\times 1/2 \\ldots $$\n",
    "\n",
    "### $$ E[X] = x_1p_1 + x_2p_2 + \\cdots + x_kp_k $$\n",
    "\n",
    "### $$ \\sum_{n=2}^{\\infty}nP_n = \\sum_{n=2}^{\\infty} \\frac{n}{2^{n-1}} = 3 $$\n"
   ]
  },
  {
   "cell_type": "code",
   "execution_count": 59,
   "metadata": {},
   "outputs": [
    {
     "data": {
      "text/plain": [
       "<matplotlib.collections.LineCollection at 0x7fa950bb5a58>"
      ]
     },
     "execution_count": 59,
     "metadata": {},
     "output_type": "execute_result"
    },
    {
     "data": {
      "image/png": "[encoded data removed]",
      "text/plain": [
       "<matplotlib.figure.Figure at 0x7fa950bb5cf8>"
      ]
     },
     "metadata": {},
     "output_type": "display_data"
    }
   ],
   "source": [
    "fig, ax = plt.subplots(1, 1)\n",
    "p = 0.5\n",
    "mean, var, skew, kurt = scs.geom.stats(p, moments='mvsk')\n",
    "x = np.arange(scs.geom.ppf(0.01, p), scs.geom.ppf(0.99, p))\n",
    "ax.plot(x, scs.geom.pmf(x, p), 'bo', ms=8, label='geom pmf')\n",
    "ax.vlines(x, 0, scs.geom.pmf(x, p), colors='b', lw=5, alpha=0.5)"
   ]
  },
  {
   "cell_type": "code",
   "execution_count": 60,
   "metadata": {},
   "outputs": [
    {
     "data": {
      "text/plain": [
       "2.0"
      ]
     },
     "execution_count": 60,
     "metadata": {},
     "output_type": "execute_result"
    },
    {
     "data": {
      "image/png": "[encoded data removed]",
      "text/plain": [
       "<matplotlib.figure.Figure at 0x7fa950bd2390>"
      ]
     },
     "metadata": {},
     "output_type": "display_data"
    }
   ],
   "source": [
    "geo = scs.geom(.5)\n",
    "xs = np.arange(0,50)\n",
    "ys = geo.pmf(xs)\n",
    "plt.plot(xs, ys)\n",
    "geo.expect()"
   ]
  },
  {
   "cell_type": "markdown",
   "metadata": {},
   "source": [
    "## 2. What is the probability of rolling a total sum of 4 with 2 dice?\n",
    "\n",
    "### 36 total ways the dice can be thrown\n",
    "\n",
    "### [(1,3),(2,2),(3,1)] = 3/36"
   ]
  },
  {
   "cell_type": "markdown",
   "metadata": {},
   "source": [
    "## 3. What is the probability of rolling at least one 4 with 2 dice?\n",
    "\n",
    " * ### there are 11 / 36"
   ]
  },
  {
   "cell_type": "markdown",
   "metadata": {},
   "source": [
    "## 4. You have two jars, 50 red marbles, 50 blue marbles. You need to place all the marbles into the jars such that when you blindly pick one marble out of one jar, you maximize the chances that it will be red.\n",
    "\n",
    "* ### Place 1 red in 1st jar and the rest of the marbles in the 2nd jar.\n",
    "\n",
    "### $ (1 \\times \\frac{1}{2}) + (\\frac{49}{99} \\times \\frac{1}{2}) = .7475 $"
   ]
  },
  {
   "cell_type": "markdown",
   "metadata": {},
   "source": [
    "## 5. If the probability of seeing a car on the highway in 30 minutes is 0.95, what is the probability of seeing a car on the highway in 10 minutes? (Assume a constant default probability)\n",
    "\n",
    "* ### Let probability of seeing no car in 10 minutes be P\n",
    "* ### No car for 30 mins = $ P x P x P $\n",
    "* ### Seeing at least one car in 30  mins $ = 1 - P^3 = 0.95 $\n",
    "* ### $ 1-P = 0.63 $\n"
   ]
  },
  {
   "cell_type": "markdown",
   "metadata": {},
   "source": [
    "## 6. You are given a fair coin. On average, how many flips would you need to get two heads in a row?\n",
    "\n",
    "* ### $ x = (1/2)(x+1) + (1/4)(x+2) + (1/4)2 $\n",
    "* ### $ x = 6 $"
   ]
  },
  {
   "cell_type": "markdown",
   "metadata": {},
   "source": [
    "## 7. You are given 10 coins. 9 are fair and 1 is biased. You are told the biased coin has P>0.5 to be heads. You randomly grab a coin and flip it three times and get HHT. What is the probability you flipped the biased coin?\n",
    "\n",
    "* ### Bayes\n",
    "* ### $$ P(A \\mid B) = \\frac {P(A) \\times P(B \\mid A)} {P(B)} $$\n",
    "* ### $$ P(A \\mid B) = \\frac {P(A) \\times P(B \\mid A)} {P(B \\mid A) \\times P(A) + P(B \\mid \\bar A) \\times P(\\bar A)} $$"
   ]
  },
  {
   "cell_type": "markdown",
   "metadata": {},
   "source": [
    "## 8. Given a biased coin with P>0.5 for heads, how could you simulate a fair coin. In more general words: simulate a fair coin given only access to a biased coin. Note, this is tricky!\n",
    "\n",
    "* ### Von Neumann gave a simple solution: flip the coin twice. If it comes up heads followed by tails, then call the outcome HEAD. If it comes up tails followed by heads, then call the outcome TAIL."
   ]
  },
  {
   "cell_type": "code",
   "execution_count": 61,
   "metadata": {},
   "outputs": [],
   "source": [
    "def fairCoin(biasedCoin):\n",
    "    coin1, coin2 = 0, 0\n",
    "    while coin1 == coin2:\n",
    "        coin1, coin2 = biasedCoin(), biasedCoin()\n",
    "    return coin1"
   ]
  },
  {
   "cell_type": "code",
   "execution_count": 62,
   "metadata": {},
   "outputs": [],
   "source": [
    "from random import random"
   ]
  },
  {
   "cell_type": "code",
   "execution_count": 63,
   "metadata": {},
   "outputs": [],
   "source": [
    "def biasedCoin():\n",
    "    return int(random() < 0.2)"
   ]
  },
  {
   "cell_type": "code",
   "execution_count": 64,
   "metadata": {},
   "outputs": [
    {
     "name": "stdout",
     "output_type": "stream",
     "text": [
      "19.7%\n"
     ]
    }
   ],
   "source": [
    "flips = 10000\n",
    "n_heads_biased = sum(biasedCoin() for i in range(flips))\n",
    "print('{}%'.format(round(n_heads_biased / flips * 100, 1)))"
   ]
  },
  {
   "cell_type": "code",
   "execution_count": 65,
   "metadata": {},
   "outputs": [
    {
     "name": "stdout",
     "output_type": "stream",
     "text": [
      "50.9%\n"
     ]
    }
   ],
   "source": [
    "n_heads_fair = sum(fairCoin(biasedCoin) for i in range(flips))\n",
    "print('{}%'.format(round(n_heads_fair / flips * 100, 1)))"
   ]
  },
  {
   "cell_type": "markdown",
   "metadata": {
    "collapsed": true
   },
   "source": [
    "## 9. Alice has 2 kids and one of them is a girl. What is the probability that the other child is also a girl? (You can assume that there are an equal number of males and females in the world.)\n",
    "\n",
    "* ### Supposedly 1/3\n",
    "* ### BB GG BG GB"
   ]
  },
  {
   "cell_type": "markdown",
   "metadata": {
    "collapsed": true
   },
   "source": [
    "# Statistics Section"
   ]
  },
  {
   "cell_type": "markdown",
   "metadata": {},
   "source": [
    "## 1. You're about to get on a plane to Seattle. You want to know if you should bring an umbrella. You call 3 random friends of yours who live there and ask each independently if it's raining.\n",
    "\n",
    "* ### Each of your friends has a 2/3 chance of telling you the truth and a 1/3 chance of messing with you by lying.\n",
    "* ### All 3 friends tell you that 'Yes' it is raining.\n",
    "* ### You also know that there is a 25% chance it's raining on any given day in Seattle\n",
    "* ### What is the probability that it's actually raining in Seattle?\n",
    "\n",
    "* ### $$ P(A \\mid B) = \\frac {P(A) \\times P(B \\mid A)} {P(B \\mid A) \\times P(A) + P(B \\mid \\bar A) \\times P(\\bar A)} $$\n",
    "\n",
    "* ### $$ P(raining \\mid Yes,Yes,Yes) = \\frac {P(raining) \\times P(Yes,Yes,Yes \\mid raining)} {P(Yes, Yes, Yes)} $$\n",
    "\n",
    "* ### $$ P(Yes,Yes,Yes) = P(raining) \\times P(Yes,Yes,Yes \\mid raining) + P(\\overline {raining}) \\times P(Yes,Yes,Yes \\mid \\overline {raining}) $$\n",
    "* ### $$ P(Yes,Yes,Yes) = 0.25\\times(2/3)^3 + 0.75\\times(1/3)^3 = 0.25\\times(8/27) + 0.75\\times(1/27) $$\n",
    "\n",
    "* ### $$ P(raining \\mid Yes,Yes,Yes) = 0.25\\times(8/27) / ( 0.25\\times8/27 + 0.75\\times1/27 ) $$"
   ]
  },
  {
   "cell_type": "code",
   "execution_count": 66,
   "metadata": {},
   "outputs": [
    {
     "data": {
      "text/plain": [
       "0.7272727272727273"
      ]
     },
     "execution_count": 66,
     "metadata": {},
     "output_type": "execute_result"
    }
   ],
   "source": [
    "((1/4)*(8/27)) / ((1/4)*(8/27)+(3/4)*(1/27))"
   ]
  },
  {
   "cell_type": "code",
   "execution_count": 67,
   "metadata": {},
   "outputs": [
    {
     "data": {
      "text/plain": [
       "0.7272727272727273"
      ]
     },
     "execution_count": 67,
     "metadata": {},
     "output_type": "execute_result"
    }
   ],
   "source": [
    "8/11"
   ]
  },
  {
   "cell_type": "markdown",
   "metadata": {},
   "source": [
    "## 2. A new quantum message system has a probability of 0.8 of success in any attempt to send a message through. Calculate the probability of having 7 successes in 10 attempts.\n",
    "\n",
    "* ### Binomial PDF $$ {n \\choose k} p^k (1-p)^{ n-k} $$\n",
    "* ### Combinations $$ {n \\choose k} = \\frac {N!} {(N-K)!K!} $$"
   ]
  },
  {
   "cell_type": "code",
   "execution_count": 68,
   "metadata": {},
   "outputs": [],
   "source": [
    "from math import factorial as fct"
   ]
  },
  {
   "cell_type": "code",
   "execution_count": 69,
   "metadata": {},
   "outputs": [
    {
     "data": {
      "text/plain": [
       "0.2013"
      ]
     },
     "execution_count": 69,
     "metadata": {},
     "output_type": "execute_result"
    }
   ],
   "source": [
    "round((fct(10) / (fct(3)*fct(7))) * (.8**7) * (1-.8)**(3), 4)"
   ]
  },
  {
   "cell_type": "code",
   "execution_count": 70,
   "metadata": {},
   "outputs": [
    {
     "data": {
      "image/png": "[encoded data removed]",
      "text/plain": [
       "<matplotlib.figure.Figure at 0x7fa95087ccf8>"
      ]
     },
     "metadata": {},
     "output_type": "display_data"
    }
   ],
   "source": [
    "#BINOMIAL\n",
    "font_size = 11\n",
    "font_name = 'sans-serif'\n",
    "fig = plt.figure(figsize=(10, 6), dpi=300)\n",
    "splot = 0\n",
    "\n",
    "# looxp through parameterizations of the beta\n",
    "for n, p in [(10, 0.8), (11, 0.8), (12, 0.8)]:\n",
    "    splot += 1\n",
    "    ax = fig.add_subplot(1, 3, splot)\n",
    "\n",
    "    x = np.arange(scs.binom.ppf(0.01, n, p), scs.binom.ppf(.99, n, p)+1)\n",
    "    ax.plot(x, scs.binom.pmf(x, n, p), 'bo', ms=8, label='pmf')\n",
    "    ax.vlines(x, 0, scs.binom.pmf(x, n, p), colors='b', lw=5, alpha=0.5)\n",
    "    rv = scs.binom(n, p)\n",
    "\n",
    "    ax.set_ylim((0, 1.0))\n",
    "    ax.set_xlim((-0.5, 10.5))\n",
    "    ax.set_title(\"n=%s,p=%s\" % (n, p))\n",
    "    ax.set_aspect(1./ax.get_data_ratio())\n",
    "    ax.set_xlabel('k')\n",
    "\n",
    "    for t in ax.get_xticklabels():\n",
    "        t.set_fontsize(font_size-1)\n",
    "        t.set_fontname(font_name)\n",
    "    for t in ax.get_yticklabels():\n",
    "        t.set_fontsize(font_size-1)\n",
    "        t.set_fontname(font_name)"
   ]
  },
  {
   "cell_type": "markdown",
   "metadata": {},
   "source": [
    "## 3. What is the difference between Type I vs Type II error?\n",
    "\n",
    " | Predict 0 | Predict 1\n",
    "--- | ---\n",
    "**Actual 0** | TN | FP (Type I)\n",
    "**Actual 1** | FN (Type II) | TP\n",
    "\n",
    "* ### Accuracy = (TP + TN) / Total\n",
    "* ### Misclassification Rate = (FP + FN) / Total\n",
    "* ### Recall aka True Positive Rate aka Sensitivity = TP / Actual Yes\n",
    "* ### Precision = TP / Predicted Yes\n",
    "* ### False Positive Rate = FP / Actual No\n",
    "* ### Specificity = TN / Actual No\n",
    "* ### Prevalence = Actual Yes / Total"
   ]
  },
  {
   "cell_type": "markdown",
   "metadata": {},
   "source": [
    "## 4. Below\n",
    "* ### A new medical test for a virus has been created.\n",
    "* ### 1% of the population has the virus.\n",
    "* ### 99% of sick people with the virus test positive\n",
    "* ### 99% of healthy individuals test negative for the virus.\n",
    "* ### $$ P(A \\mid B) = \\frac {P(A) \\times P(B \\mid A)} {P(B \\mid A) \\times P(A) + P(B \\mid \\bar A) \\times P(\\bar A)} $$"
   ]
  },
  {
   "cell_type": "code",
   "execution_count": 71,
   "metadata": {},
   "outputs": [],
   "source": [
    "a_b = .01 * .99"
   ]
  },
  {
   "cell_type": "code",
   "execution_count": 72,
   "metadata": {},
   "outputs": [
    {
     "data": {
      "text/plain": [
       "0.5"
      ]
     },
     "execution_count": 72,
     "metadata": {},
     "output_type": "execute_result"
    }
   ],
   "source": [
    "a_b / (a_b+a_b)"
   ]
  },
  {
   "cell_type": "markdown",
   "metadata": {},
   "source": [
    "## 5. Below\n",
    "\n",
    "* ### The average life of a certain type of motor is 10 years with a standard deviation of 2 years.\n",
    "* ### If the manufacturer is willing to replace only 3% because of failures, how long a guarantee should she offer?\n",
    "* ### Assume Normal Distribution\n",
    "* ### z-table\n",
    "* ### $$ Z = \\frac {X - \\mu} {\\sigma} $$\n",
    "* ### $$ z = -1.88\\:\\:\\:for\\:p = .0301 $$\n",
    "* ### $$ -1.88 = \\frac {x-10} {2} $$\n",
    "* ### $$ x = 6.24 $$\n"
   ]
  },
  {
   "cell_type": "code",
   "execution_count": 73,
   "metadata": {},
   "outputs": [],
   "source": [
    "engine_norm = scs.norm(10, 2)"
   ]
  },
  {
   "cell_type": "code",
   "execution_count": 79,
   "metadata": {},
   "outputs": [
    {
     "name": "stdout",
     "output_type": "stream",
     "text": [
      "years 6.24\n"
     ]
    }
   ],
   "source": [
    "years = round(engine_norm.ppf(.03),2)\n",
    "print('years {}'.format(years))"
   ]
  },
  {
   "cell_type": "code",
   "execution_count": null,
   "metadata": {},
   "outputs": [],
   "source": []
  },
  {
   "cell_type": "markdown",
   "metadata": {},
   "source": [
    "### $LaTeX:\\alpha^2\\:\\:examples$\n",
    "$\\sum_{\\substack{0<i<m\\0<j<n}} P(i, j)$\n",
    "$\\alpha$\n",
    "\n",
    "$\\frac {p(H) \\: p(D \\mid H)} {p(D)}$\n",
    "\n",
    "$P(E)   = {n \\choose k} p^k (1-p)^{ n-k}$\n",
    "\n",
    "$$ p(H \\mid D) = \\frac {p(H) p(D \\mid H)} {p(D)}$$\n",
    "\n",
    "$ 5\\dot 3 $\n",
    "\n",
    "$\\cdot$\n",
    "$\\cdotp$\n",
    "$\\bullet$"
   ]
  },
  {
   "cell_type": "markdown",
   "metadata": {
    "collapsed": true
   },
   "source": []
  },
  {
   "cell_type": "code",
   "execution_count": null,
   "metadata": {},
   "outputs": [],
   "source": []
  }
 ],
 "metadata": {
  "kernelspec": {
   "display_name": "Python 3",
   "language": "python",
   "name": "python3"
  },
  "language_info": {
   "codemirror_mode": {
    "name": "ipython",
    "version": 3
   },
   "file_extension": ".py",
   "mimetype": "text/x-python",
   "name": "python",
   "nbconvert_exporter": "python",
   "pygments_lexer": "ipython3",
   "version": "3.6.2"
  }
 },
 "nbformat": 4,
 "nbformat_minor": 2
}
